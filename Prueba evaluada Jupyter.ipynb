{
 "cells": [
  {
   "cell_type": "markdown",
   "metadata": {},
   "source": [
    "<center>\n",
    "    <img src=\"https://cf-courses-data.s3.us.cloud-object-storage.appdomain.cloud/IBMDeveloperSkillsNetwork-DS0105EN-SkillsNetwork/labs/Module2/images/SN_web_lightmode.png\" width=\"300\" alt=\"cognitiveclass.ai logo\">\n",
    "</center>\n"
   ]
  },
  {
   "cell_type": "markdown",
   "metadata": {},
   "source": [
    "#### practicas en cuaderno Jupyter\n",
    "#### se realizaran ejercicicios exigidos para probar lo aprendido\n"
   ]
  },
  {
   "cell_type": "code",
   "execution_count": null,
   "metadata": {},
   "outputs": [],
   "source": [
    "print(\"Prueba evaluada Jupyter\")"
   ]
  },
  {
   "cell_type": "code",
   "execution_count": 9,
   "metadata": {
    "tags": []
   },
   "outputs": [
    {
     "name": "stdout",
     "output_type": "stream",
     "text": [
      "se realizaran ejercicios exigidos para probar lo aprendido\n"
     ]
    }
   ],
   "source": [
    "print(\"se realizaran ejercicios exigidos para probar lo aprendido\")"
   ]
  },
  {
   "cell_type": "code",
   "execution_count": 3,
   "metadata": {
    "tags": []
   },
   "outputs": [
    {
     "name": "stdout",
     "output_type": "stream",
     "text": [
      "Lenguajes de la ciencia de Datos:\n",
      "1.-Python\n",
      "2.-R\n",
      "3.-SQL\n",
      "4.-Java\n",
      "5.-Scala\n",
      "6.-Julia\n",
      "7.-MATLAB\n"
     ]
    }
   ],
   "source": [
    "print(\"Lenguajes de la ciencia de Datos:\\n1.-Python\\n2.-R\\n3.-SQL\\n4.-Java\\n5.-Scala\\n6.-Julia\\n7.-MATLAB\")"
   ]
  },
  {
   "cell_type": "code",
   "execution_count": 4,
   "metadata": {
    "tags": []
   },
   "outputs": [
    {
     "name": "stdout",
     "output_type": "stream",
     "text": [
      " librerías para ciencia de datos:\n",
      "1.-Numpy\n",
      "2.-SciPy\n",
      "3.-Scikit-learn\n",
      "4.-TensorFlow\n",
      "5.-Keras\n"
     ]
    }
   ],
   "source": [
    "print(\" librerías para ciencia de datos:\\n1.-Numpy\\n2.-SciPy\\n3.-Scikit-learn\\n4.-TensorFlow\\n5.-Keras\")"
   ]
  },
  {
   "cell_type": "code",
   "execution_count": 5,
   "metadata": {
    "tags": []
   },
   "outputs": [
    {
     "name": "stdout",
     "output_type": "stream",
     "text": [
      "35937\n"
     ]
    }
   ],
   "source": [
    "potencia=33**3\n",
    "print(potencia)"
   ]
  },
  {
   "cell_type": "code",
   "execution_count": 6,
   "metadata": {
    "tags": []
   },
   "outputs": [
    {
     "name": "stdout",
     "output_type": "stream",
     "text": [
      "El resultado de la multiplicacion es: 15\n",
      "El resultado de la Suma es: 8\n"
     ]
    }
   ],
   "source": [
    "num_1=5\n",
    "num_2=3\n",
    "multiplicacion=num_1*num_2\n",
    "suma=num_1+num_2\n",
    "print(f\"El resultado de la multiplicacion es: {multiplicacion}\")\n",
    "print(f\"El resultado de la Suma es: {suma}\")"
   ]
  },
  {
   "cell_type": "code",
   "execution_count": 8,
   "metadata": {
    "tags": []
   },
   "outputs": [
    {
     "name": "stdout",
     "output_type": "stream",
     "text": [
      "360 minutos son equivalentes a 6.0 Horas\n"
     ]
    }
   ],
   "source": [
    "horas=360/60\n",
    "\n",
    "print(f\"360 minutos son equivalentes a {horas} Horas\")"
   ]
  },
  {
   "cell_type": "code",
   "execution_count": 10,
   "metadata": {
    "tags": []
   },
   "outputs": [
    {
     "name": "stdout",
     "output_type": "stream",
     "text": [
      "objetivos a evaluar:\n",
      "01 Create a markdown cell with the title of the notebook.\n",
      "02 Create a markdown cell for an introduction.\n",
      "03 Create a markdown cell to list data science languages.\n",
      "04 Create a markdown cell to list data science libraries.\n",
      "05reate a markdown cell with a table of Data Science tools.\n",
      "06 Create a markdown cell introducing arithmetic expression examples.\n",
      "07 Create a code cell to multiply and add numbers.\n",
      "08 Create a code cell to convert minutes to hours.\n",
      "09Insert a markdown cell to list Objectives.\n",
      "10- Create a markdown cell to indicate the Author’s name.\n",
      "11 - Share your notebook through GitHub\n",
      "12 - Take a screenshot of the first page of the notebook.\n"
     ]
    }
   ],
   "source": [
    "print(\"objetivos a evaluar:\\n01 Create a markdown cell with the title of the notebook.\\n02 Create a markdown cell for an introduction.\\n03 Create a markdown cell to list data science languages.\\n04 Create a markdown cell to list data science libraries.\\n05reate a markdown cell with a table of Data Science tools.\\n06 Create a markdown cell introducing arithmetic expression examples.\\n07 Create a code cell to multiply and add numbers.\\n08 Create a code cell to convert minutes to hours.\\n09Insert a markdown cell to list Objectives.\\n10- Create a markdown cell to indicate the Author’s name.\\n11 - Share your notebook through GitHub\\n12 - Take a screenshot of the first page of the notebook.\")"
   ]
  },
  {
   "cell_type": "code",
   "execution_count": 11,
   "metadata": {
    "tags": []
   },
   "outputs": [
    {
     "name": "stdout",
     "output_type": "stream",
     "text": [
      "Autor: Carlos\n"
     ]
    }
   ],
   "source": [
    "print(\"Autor: Carlos\")"
   ]
  },
  {
   "cell_type": "code",
   "execution_count": null,
   "metadata": {},
   "outputs": [],
   "source": []
  }
 ],
 "metadata": {
  "kernelspec": {
   "display_name": "Python",
   "language": "python",
   "name": "conda-env-python-py"
  },
  "language_info": {
   "codemirror_mode": {
    "name": "ipython",
    "version": 3
   },
   "file_extension": ".py",
   "mimetype": "text/x-python",
   "name": "python",
   "nbconvert_exporter": "python",
   "pygments_lexer": "ipython3",
   "version": "3.7.12"
  }
 },
 "nbformat": 4,
 "nbformat_minor": 4
}
